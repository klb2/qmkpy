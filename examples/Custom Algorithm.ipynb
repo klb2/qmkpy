{
 "cells": [
  {
   "cell_type": "markdown",
   "id": "05e34574",
   "metadata": {},
   "source": [
    "# Implementation of a Custom Algorithm\n",
    "\n",
    "\n",
    "The following illustrates how simple it is to implement a new algorithm to solve the quadratic multiple knapsack problem (QMKP) using the [`qmkpy`](https://github.com/klb2/qmkpy) library."
   ]
  },
  {
   "cell_type": "markdown",
   "id": "abf55911",
   "metadata": {},
   "source": [
    "> If you are not familiar with Jupyter notebooks: The easiest way to use this notebook interactively, is to hit `Kernel --> Restart & Run All` in the menu. This will execute all cells and enable the interactive elements of the plots.  \n",
    "> Alternatively, you can execute the cells one by one using Shift+Return"
   ]
  },
  {
   "cell_type": "code",
   "execution_count": null,
   "id": "e56db659",
   "metadata": {},
   "outputs": [],
   "source": [
    "import numpy as np\n",
    "from qmkpy import total_profit_qmkp, QMKProblem\n",
    "from qmkpy import algorithms"
   ]
  },
  {
   "cell_type": "markdown",
   "id": "7f45d14c",
   "metadata": {},
   "source": [
    "If you want to implement and test a novel solution algorithm for the QMKP, you simply need to write a Python function that takes profits as first argument, weights as second, and capacities as third argument. Beyond that, it can have an arbitrary number of addiotional arguments. However, it needs to be possible to pass them positionally.\n",
    "\n",
    "The return of the function needs to be the assignment matrix in binary form.\n",
    "\n",
    "It should look like the following example."
   ]
  },
  {
   "cell_type": "code",
   "execution_count": null,
   "id": "1871701e",
   "metadata": {},
   "outputs": [],
   "source": [
    "def example_algorithm(profits, weights, capacities):\n",
    "    assignments = np.zeros((len(weights), len(capacities)))\n",
    "    remaining_capacities = np.copy(capacities)\n",
    "    items_by_weight = np.argsort(weights)\n",
    "    for _item in items_by_weight:\n",
    "        _weight = weights[_item]\n",
    "        _first_ks = np.argmax(remaining_capacities >= _weight)\n",
    "        assignments[_item, _first_ks] = 1\n",
    "        remaining_capacities[_first_ks] -= _weight\n",
    "    return assignments"
   ]
  },
  {
   "cell_type": "markdown",
   "id": "6dfcecdc",
   "metadata": {},
   "source": [
    "Now we test the algorithm by first defining some weights, capacities, and profits which are then used to create a `qmkpy.QMKP` object."
   ]
  },
  {
   "cell_type": "code",
   "execution_count": null,
   "id": "055db3e7",
   "metadata": {},
   "outputs": [],
   "source": [
    "weights = [5, 2, 3, 4]  # four items\n",
    "capacities = [1, 5, 5, 6, 2]  # five knapsacks\n",
    "profits = np.array([[3, 1, 0, 2],\n",
    "                    [1, 1, 1, 4],\n",
    "                    [0, 1, 2, 2],\n",
    "                    [2, 4, 2, 3]])  # symmetric profit matrix\n",
    "\n",
    "qmkp = QMKProblem(profits, weights, capacities)"
   ]
  },
  {
   "cell_type": "markdown",
   "id": "1e2d9ae5",
   "metadata": {},
   "source": [
    "Next, we assign our new algorithm as the solution algorithm for this problem and let it solve the QMKP."
   ]
  },
  {
   "cell_type": "code",
   "execution_count": null,
   "id": "379d3dec",
   "metadata": {},
   "outputs": [],
   "source": [
    "qmkp.algorithm = example_algorithm\n",
    "assignments, total_profit = qmkp.solve()"
   ]
  },
  {
   "cell_type": "markdown",
   "id": "2e1e8701",
   "metadata": {},
   "source": [
    "The output of the `QMKP.solve` method is the assignment matrix as returned by our `example_algorithm` function and the resulting total profit for the final assignment that has been found."
   ]
  },
  {
   "cell_type": "code",
   "execution_count": null,
   "id": "9f8381e2",
   "metadata": {},
   "outputs": [],
   "source": [
    "print(assignments)\n",
    "print(total_profit)"
   ]
  }
 ],
 "metadata": {
  "kernelspec": {
   "display_name": "Python 3 (ipykernel)",
   "language": "python",
   "name": "python3"
  },
  "language_info": {
   "codemirror_mode": {
    "name": "ipython",
    "version": 3
   },
   "file_extension": ".py",
   "mimetype": "text/x-python",
   "name": "python",
   "nbconvert_exporter": "python",
   "pygments_lexer": "ipython3",
   "version": "3.10.7"
  }
 },
 "nbformat": 4,
 "nbformat_minor": 5
}
